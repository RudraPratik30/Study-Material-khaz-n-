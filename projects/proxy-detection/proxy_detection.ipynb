{
  "cells": [
    {
      "cell_type": "code",
      "execution_count": 2,
      "metadata": {},
      "outputs": [
        {
          "name": "stdout",
          "output_type": "stream",
          "text": [
            "Collecting sklearn\n",
            "  Downloading sklearn-0.0.tar.gz (1.1 kB)\n",
            "  Preparing metadata (setup.py): started\n",
            "  Preparing metadata (setup.py): finished with status 'done'\n",
            "Collecting scikit-learn\n",
            "  Downloading scikit_learn-1.1.2-cp38-cp38-win32.whl (6.6 MB)\n",
            "     ---------------------------------------- 6.6/6.6 MB 5.4 MB/s eta 0:00:00\n",
            "Collecting joblib>=1.0.0\n",
            "  Downloading joblib-1.2.0-py3-none-any.whl (297 kB)\n",
            "     -------------------------------------- 298.0/298.0 KB 6.1 MB/s eta 0:00:00\n",
            "Requirement already satisfied: numpy>=1.17.3 in c:\\users\\madhav\\appdata\\local\\programs\\python\\python38-32\\lib\\site-packages (from scikit-learn->sklearn) (1.19.4)\n",
            "Collecting threadpoolctl>=2.0.0\n",
            "  Downloading threadpoolctl-3.1.0-py3-none-any.whl (14 kB)\n",
            "Requirement already satisfied: scipy>=1.3.2 in c:\\users\\madhav\\appdata\\local\\programs\\python\\python38-32\\lib\\site-packages (from scikit-learn->sklearn) (1.8.0)\n",
            "Building wheels for collected packages: sklearn\n",
            "  Building wheel for sklearn (setup.py): started\n",
            "  Building wheel for sklearn (setup.py): finished with status 'done'\n",
            "  Created wheel for sklearn: filename=sklearn-0.0-py2.py3-none-any.whl size=1309 sha256=11ac195f9432b79b0ed3eaf7251c28164fc48b87d11687070c1abbff7c511c0c\n",
            "  Stored in directory: c:\\users\\madhav\\appdata\\local\\pip\\cache\\wheels\\22\\0b\\40\\fd3f795caaa1fb4c6cb738bc1f56100be1e57da95849bfc897\n",
            "Successfully built sklearn\n",
            "Installing collected packages: threadpoolctl, joblib, scikit-learn, sklearn\n",
            "Successfully installed joblib-1.2.0 scikit-learn-1.1.2 sklearn-0.0 threadpoolctl-3.1.0\n"
          ]
        },
        {
          "name": "stderr",
          "output_type": "stream",
          "text": [
            "WARNING: Ignoring invalid distribution -illow (c:\\users\\madhav\\appdata\\local\\programs\\python\\python38-32\\lib\\site-packages)\n",
            "WARNING: Ignoring invalid distribution -illow (c:\\users\\madhav\\appdata\\local\\programs\\python\\python38-32\\lib\\site-packages)\n",
            "WARNING: Ignoring invalid distribution -illow (c:\\users\\madhav\\appdata\\local\\programs\\python\\python38-32\\lib\\site-packages)\n",
            "WARNING: Ignoring invalid distribution -illow (c:\\users\\madhav\\appdata\\local\\programs\\python\\python38-32\\lib\\site-packages)\n",
            "WARNING: Ignoring invalid distribution -illow (c:\\users\\madhav\\appdata\\local\\programs\\python\\python38-32\\lib\\site-packages)\n",
            "WARNING: Ignoring invalid distribution -illow (c:\\users\\madhav\\appdata\\local\\programs\\python\\python38-32\\lib\\site-packages)\n",
            "WARNING: Ignoring invalid distribution -illow (c:\\users\\madhav\\appdata\\local\\programs\\python\\python38-32\\lib\\site-packages)\n",
            "WARNING: Ignoring invalid distribution -illow (c:\\users\\madhav\\appdata\\local\\programs\\python\\python38-32\\lib\\site-packages)\n",
            "WARNING: Ignoring invalid distribution -illow (c:\\users\\madhav\\appdata\\local\\programs\\python\\python38-32\\lib\\site-packages)\n",
            "WARNING: Ignoring invalid distribution -illow (c:\\users\\madhav\\appdata\\local\\programs\\python\\python38-32\\lib\\site-packages)\n",
            "WARNING: You are using pip version 22.0.2; however, version 22.3 is available.\n",
            "You should consider upgrading via the 'c:\\users\\madhav\\appdata\\local\\programs\\python\\python38-32\\python.exe -m pip install --upgrade pip' command.\n"
          ]
        }
      ],
      "source": [
        "!pip install sklearn\n",
        "!pip install pandas"
      ]
    },
    {
      "cell_type": "code",
      "execution_count": 3,
      "metadata": {
        "id": "9tuDftGORGZp"
      },
      "outputs": [],
      "source": [
        "import pandas as pd\n",
        "import sklearn\n",
        "from scipy.io import arff"
      ]
    },
    {
      "cell_type": "code",
      "execution_count": 4,
      "metadata": {
        "colab": {
          "base_uri": "https://localhost:8080/"
        },
        "id": "XUn3MiiiRHEn",
        "outputId": "ed8d7b92-3622-4baa-8f0f-294bf6e199ae"
      },
      "outputs": [
        {
          "name": "stdout",
          "output_type": "stream",
          "text": [
            "<class 'pandas.core.frame.DataFrame'>\n",
            "RangeIndex: 14651 entries, 0 to 14650\n",
            "Data columns (total 24 columns):\n",
            " #   Column              Non-Null Count  Dtype  \n",
            "---  ------              --------------  -----  \n",
            " 0   duration            14651 non-null  float64\n",
            " 1   total_fiat          14651 non-null  float64\n",
            " 2   total_biat          14651 non-null  float64\n",
            " 3   min_fiat            14651 non-null  float64\n",
            " 4   min_biat            14651 non-null  float64\n",
            " 5   max_fiat            14651 non-null  float64\n",
            " 6   max_biat            14651 non-null  float64\n",
            " 7   mean_fiat           14651 non-null  float64\n",
            " 8   mean_biat           14651 non-null  float64\n",
            " 9   flowPktsPerSecond   14651 non-null  float64\n",
            " 10  flowBytesPerSecond  14651 non-null  float64\n",
            " 11  min_flowiat         14651 non-null  float64\n",
            " 12  max_flowiat         14651 non-null  float64\n",
            " 13  mean_flowiat        14651 non-null  float64\n",
            " 14  std_flowiat         14651 non-null  float64\n",
            " 15  min_active          14651 non-null  float64\n",
            " 16  mean_active         14651 non-null  float64\n",
            " 17  max_active          14651 non-null  float64\n",
            " 18  std_active          14651 non-null  float64\n",
            " 19  min_idle            14651 non-null  float64\n",
            " 20  mean_idle           14651 non-null  float64\n",
            " 21  max_idle            14651 non-null  float64\n",
            " 22  std_idle            14651 non-null  float64\n",
            " 23  class1              14651 non-null  object \n",
            "dtypes: float64(23), object(1)\n",
            "memory usage: 2.6+ MB\n"
          ]
        }
      ],
      "source": [
        "# load data set\n",
        "data = arff.loadarff('TimeBasedFeatures-Dataset-30s-VPN.arff')\n",
        "df = pd.DataFrame(data[0])\n",
        "df.info()"
      ]
    },
    {
      "cell_type": "code",
      "execution_count": null,
      "metadata": {
        "colab": {
          "base_uri": "https://localhost:8080/"
        },
        "id": "hD9H3_LXRIj0",
        "outputId": "7f6293f9-de8a-4125-c8d0-43924ced30e1"
      },
      "outputs": [
        {
          "name": "stdout",
          "output_type": "stream",
          "text": [
            "No. of training examples: 15006\n",
            "No. of testing examples: 3752\n"
          ]
        }
      ],
      "source": [
        "training_data = df.sample(frac=0.8, random_state=42)\n",
        "testing_data = df.drop(training_data.index)\n",
        "\n",
        "print(f\"No. of training examples: {training_data.shape[0]}\")\n",
        "print(f\"No. of testing examples: {testing_data.shape[0]}\")"
      ]
    },
    {
      "cell_type": "code",
      "execution_count": null,
      "metadata": {
        "colab": {
          "base_uri": "https://localhost:8080/",
          "height": 299
        },
        "id": "TW5x_4sJRPnh",
        "outputId": "83647275-d017-434c-de8f-3192e0c50263"
      },
      "outputs": [
        {
          "data": {
            "text/html": [
              "\n",
              "  <div id=\"df-be906ed2-2245-40ff-a24f-0500057f4e1a\">\n",
              "    <div class=\"colab-df-container\">\n",
              "      <div>\n",
              "<style scoped>\n",
              "    .dataframe tbody tr th:only-of-type {\n",
              "        vertical-align: middle;\n",
              "    }\n",
              "\n",
              "    .dataframe tbody tr th {\n",
              "        vertical-align: top;\n",
              "    }\n",
              "\n",
              "    .dataframe thead th {\n",
              "        text-align: right;\n",
              "    }\n",
              "</style>\n",
              "<table border=\"1\" class=\"dataframe\">\n",
              "  <thead>\n",
              "    <tr style=\"text-align: right;\">\n",
              "      <th></th>\n",
              "      <th>duration</th>\n",
              "      <th>total_fiat</th>\n",
              "      <th>total_biat</th>\n",
              "      <th>min_fiat</th>\n",
              "      <th>min_biat</th>\n",
              "      <th>max_fiat</th>\n",
              "      <th>max_biat</th>\n",
              "      <th>mean_fiat</th>\n",
              "      <th>mean_biat</th>\n",
              "      <th>flowPktsPerSecond</th>\n",
              "      <th>...</th>\n",
              "      <th>mean_flowiat</th>\n",
              "      <th>std_flowiat</th>\n",
              "      <th>min_active</th>\n",
              "      <th>mean_active</th>\n",
              "      <th>max_active</th>\n",
              "      <th>std_active</th>\n",
              "      <th>min_idle</th>\n",
              "      <th>mean_idle</th>\n",
              "      <th>max_idle</th>\n",
              "      <th>std_idle</th>\n",
              "    </tr>\n",
              "  </thead>\n",
              "  <tbody>\n",
              "    <tr>\n",
              "      <th>6</th>\n",
              "      <td>13978645.0</td>\n",
              "      <td>17.0</td>\n",
              "      <td>7.0</td>\n",
              "      <td>2249885.0</td>\n",
              "      <td>2064514.0</td>\n",
              "      <td>215483.375000</td>\n",
              "      <td>254157.181818</td>\n",
              "      <td>4.845279e+05</td>\n",
              "      <td>4.625930e+05</td>\n",
              "      <td>8.656061</td>\n",
              "      <td>...</td>\n",
              "      <td>116488.708333</td>\n",
              "      <td>3.342602e+05</td>\n",
              "      <td>1363299.0</td>\n",
              "      <td>2254176.2</td>\n",
              "      <td>3870047.0</td>\n",
              "      <td>1.010714e+06</td>\n",
              "      <td>1147658.0</td>\n",
              "      <td>1533121.80</td>\n",
              "      <td>2064514.0</td>\n",
              "      <td>4.218329e+05</td>\n",
              "    </tr>\n",
              "    <tr>\n",
              "      <th>9</th>\n",
              "      <td>8259704.0</td>\n",
              "      <td>18.0</td>\n",
              "      <td>9.0</td>\n",
              "      <td>2321059.0</td>\n",
              "      <td>2278426.0</td>\n",
              "      <td>269051.300000</td>\n",
              "      <td>330388.160000</td>\n",
              "      <td>6.395332e+05</td>\n",
              "      <td>6.372440e+05</td>\n",
              "      <td>6.900974</td>\n",
              "      <td>...</td>\n",
              "      <td>147494.714286</td>\n",
              "      <td>4.499576e+05</td>\n",
              "      <td>2368851.0</td>\n",
              "      <td>2687726.0</td>\n",
              "      <td>3162320.0</td>\n",
              "      <td>4.190281e+05</td>\n",
              "      <td>1702783.0</td>\n",
              "      <td>1980072.00</td>\n",
              "      <td>2270116.0</td>\n",
              "      <td>2.838815e+05</td>\n",
              "    </tr>\n",
              "    <tr>\n",
              "      <th>11</th>\n",
              "      <td>5545334.0</td>\n",
              "      <td>30.0</td>\n",
              "      <td>6.0</td>\n",
              "      <td>2349340.0</td>\n",
              "      <td>2315198.0</td>\n",
              "      <td>267851.550000</td>\n",
              "      <td>291859.684211</td>\n",
              "      <td>6.625533e+05</td>\n",
              "      <td>6.672003e+05</td>\n",
              "      <td>7.393603</td>\n",
              "      <td>...</td>\n",
              "      <td>138633.350000</td>\n",
              "      <td>4.681353e+05</td>\n",
              "      <td>2347008.0</td>\n",
              "      <td>2656002.0</td>\n",
              "      <td>2964996.0</td>\n",
              "      <td>4.369835e+05</td>\n",
              "      <td>1978303.0</td>\n",
              "      <td>2138028.50</td>\n",
              "      <td>2297754.0</td>\n",
              "      <td>2.258860e+05</td>\n",
              "    </tr>\n",
              "    <tr>\n",
              "      <th>13</th>\n",
              "      <td>12128582.0</td>\n",
              "      <td>21.0</td>\n",
              "      <td>8.0</td>\n",
              "      <td>8107194.0</td>\n",
              "      <td>7918721.0</td>\n",
              "      <td>461149.076923</td>\n",
              "      <td>527329.652174</td>\n",
              "      <td>1.616626e+06</td>\n",
              "      <td>1.669652e+06</td>\n",
              "      <td>4.204943</td>\n",
              "      <td>...</td>\n",
              "      <td>242571.640000</td>\n",
              "      <td>1.148809e+06</td>\n",
              "      <td>2762034.0</td>\n",
              "      <td>5957443.5</td>\n",
              "      <td>9152853.0</td>\n",
              "      <td>4.518991e+06</td>\n",
              "      <td>2066591.0</td>\n",
              "      <td>4992656.00</td>\n",
              "      <td>7918721.0</td>\n",
              "      <td>4.138081e+06</td>\n",
              "    </tr>\n",
              "    <tr>\n",
              "      <th>16</th>\n",
              "      <td>10300439.0</td>\n",
              "      <td>18.0</td>\n",
              "      <td>5.0</td>\n",
              "      <td>3029278.0</td>\n",
              "      <td>2997586.0</td>\n",
              "      <td>206406.551020</td>\n",
              "      <td>223922.586957</td>\n",
              "      <td>5.292343e+05</td>\n",
              "      <td>5.281801e+05</td>\n",
              "      <td>9.417074</td>\n",
              "      <td>...</td>\n",
              "      <td>107296.239583</td>\n",
              "      <td>3.749346e+05</td>\n",
              "      <td>1566070.0</td>\n",
              "      <td>2510109.5</td>\n",
              "      <td>3810504.0</td>\n",
              "      <td>1.123165e+06</td>\n",
              "      <td>1197148.0</td>\n",
              "      <td>1725752.75</td>\n",
              "      <td>2979791.0</td>\n",
              "      <td>8.396754e+05</td>\n",
              "    </tr>\n",
              "  </tbody>\n",
              "</table>\n",
              "<p>5 rows × 23 columns</p>\n",
              "</div>\n",
              "      <button class=\"colab-df-convert\" onclick=\"convertToInteractive('df-be906ed2-2245-40ff-a24f-0500057f4e1a')\"\n",
              "              title=\"Convert this dataframe to an interactive table.\"\n",
              "              style=\"display:none;\">\n",
              "        \n",
              "  <svg xmlns=\"http://www.w3.org/2000/svg\" height=\"24px\"viewBox=\"0 0 24 24\"\n",
              "       width=\"24px\">\n",
              "    <path d=\"M0 0h24v24H0V0z\" fill=\"none\"/>\n",
              "    <path d=\"M18.56 5.44l.94 2.06.94-2.06 2.06-.94-2.06-.94-.94-2.06-.94 2.06-2.06.94zm-11 1L8.5 8.5l.94-2.06 2.06-.94-2.06-.94L8.5 2.5l-.94 2.06-2.06.94zm10 10l.94 2.06.94-2.06 2.06-.94-2.06-.94-.94-2.06-.94 2.06-2.06.94z\"/><path d=\"M17.41 7.96l-1.37-1.37c-.4-.4-.92-.59-1.43-.59-.52 0-1.04.2-1.43.59L10.3 9.45l-7.72 7.72c-.78.78-.78 2.05 0 2.83L4 21.41c.39.39.9.59 1.41.59.51 0 1.02-.2 1.41-.59l7.78-7.78 2.81-2.81c.8-.78.8-2.07 0-2.86zM5.41 20L4 18.59l7.72-7.72 1.47 1.35L5.41 20z\"/>\n",
              "  </svg>\n",
              "      </button>\n",
              "      \n",
              "  <style>\n",
              "    .colab-df-container {\n",
              "      display:flex;\n",
              "      flex-wrap:wrap;\n",
              "      gap: 12px;\n",
              "    }\n",
              "\n",
              "    .colab-df-convert {\n",
              "      background-color: #E8F0FE;\n",
              "      border: none;\n",
              "      border-radius: 50%;\n",
              "      cursor: pointer;\n",
              "      display: none;\n",
              "      fill: #1967D2;\n",
              "      height: 32px;\n",
              "      padding: 0 0 0 0;\n",
              "      width: 32px;\n",
              "    }\n",
              "\n",
              "    .colab-df-convert:hover {\n",
              "      background-color: #E2EBFA;\n",
              "      box-shadow: 0px 1px 2px rgba(60, 64, 67, 0.3), 0px 1px 3px 1px rgba(60, 64, 67, 0.15);\n",
              "      fill: #174EA6;\n",
              "    }\n",
              "\n",
              "    [theme=dark] .colab-df-convert {\n",
              "      background-color: #3B4455;\n",
              "      fill: #D2E3FC;\n",
              "    }\n",
              "\n",
              "    [theme=dark] .colab-df-convert:hover {\n",
              "      background-color: #434B5C;\n",
              "      box-shadow: 0px 1px 3px 1px rgba(0, 0, 0, 0.15);\n",
              "      filter: drop-shadow(0px 1px 2px rgba(0, 0, 0, 0.3));\n",
              "      fill: #FFFFFF;\n",
              "    }\n",
              "  </style>\n",
              "\n",
              "      <script>\n",
              "        const buttonEl =\n",
              "          document.querySelector('#df-be906ed2-2245-40ff-a24f-0500057f4e1a button.colab-df-convert');\n",
              "        buttonEl.style.display =\n",
              "          google.colab.kernel.accessAllowed ? 'block' : 'none';\n",
              "\n",
              "        async function convertToInteractive(key) {\n",
              "          const element = document.querySelector('#df-be906ed2-2245-40ff-a24f-0500057f4e1a');\n",
              "          const dataTable =\n",
              "            await google.colab.kernel.invokeFunction('convertToInteractive',\n",
              "                                                     [key], {});\n",
              "          if (!dataTable) return;\n",
              "\n",
              "          const docLinkHtml = 'Like what you see? Visit the ' +\n",
              "            '<a target=\"_blank\" href=https://colab.research.google.com/notebooks/data_table.ipynb>data table notebook</a>'\n",
              "            + ' to learn more about interactive tables.';\n",
              "          element.innerHTML = '';\n",
              "          dataTable['output_type'] = 'display_data';\n",
              "          await google.colab.output.renderOutput(dataTable, element);\n",
              "          const docLink = document.createElement('div');\n",
              "          docLink.innerHTML = docLinkHtml;\n",
              "          element.appendChild(docLink);\n",
              "        }\n",
              "      </script>\n",
              "    </div>\n",
              "  </div>\n",
              "  "
            ],
            "text/plain": [
              "      duration  total_fiat  total_biat   min_fiat   min_biat       max_fiat  \\\n",
              "6   13978645.0        17.0         7.0  2249885.0  2064514.0  215483.375000   \n",
              "9    8259704.0        18.0         9.0  2321059.0  2278426.0  269051.300000   \n",
              "11   5545334.0        30.0         6.0  2349340.0  2315198.0  267851.550000   \n",
              "13  12128582.0        21.0         8.0  8107194.0  7918721.0  461149.076923   \n",
              "16  10300439.0        18.0         5.0  3029278.0  2997586.0  206406.551020   \n",
              "\n",
              "         max_biat     mean_fiat     mean_biat  flowPktsPerSecond  ...  \\\n",
              "6   254157.181818  4.845279e+05  4.625930e+05           8.656061  ...   \n",
              "9   330388.160000  6.395332e+05  6.372440e+05           6.900974  ...   \n",
              "11  291859.684211  6.625533e+05  6.672003e+05           7.393603  ...   \n",
              "13  527329.652174  1.616626e+06  1.669652e+06           4.204943  ...   \n",
              "16  223922.586957  5.292343e+05  5.281801e+05           9.417074  ...   \n",
              "\n",
              "     mean_flowiat   std_flowiat  min_active  mean_active  max_active  \\\n",
              "6   116488.708333  3.342602e+05   1363299.0    2254176.2   3870047.0   \n",
              "9   147494.714286  4.499576e+05   2368851.0    2687726.0   3162320.0   \n",
              "11  138633.350000  4.681353e+05   2347008.0    2656002.0   2964996.0   \n",
              "13  242571.640000  1.148809e+06   2762034.0    5957443.5   9152853.0   \n",
              "16  107296.239583  3.749346e+05   1566070.0    2510109.5   3810504.0   \n",
              "\n",
              "      std_active   min_idle   mean_idle   max_idle      std_idle  \n",
              "6   1.010714e+06  1147658.0  1533121.80  2064514.0  4.218329e+05  \n",
              "9   4.190281e+05  1702783.0  1980072.00  2270116.0  2.838815e+05  \n",
              "11  4.369835e+05  1978303.0  2138028.50  2297754.0  2.258860e+05  \n",
              "13  4.518991e+06  2066591.0  4992656.00  7918721.0  4.138081e+06  \n",
              "16  1.123165e+06  1197148.0  1725752.75  2979791.0  8.396754e+05  \n",
              "\n",
              "[5 rows x 23 columns]"
            ]
          },
          "execution_count": 4,
          "metadata": {},
          "output_type": "execute_result"
        }
      ],
      "source": [
        "# removing class1 column\n",
        "# 1. from traning set\n",
        "training_out = [str(i) for i in training_data['class1']]\n",
        "for i in range(len(training_out)):\n",
        "  if(training_out[i] == \"b'VPN'\"):\n",
        "    training_out[i] = 1\n",
        "  else:\n",
        "    training_out[i] = 0\n",
        "\n",
        "trainX = training_data.drop(columns=['class1'])\n",
        "trainX.head()\n",
        "\n",
        "# 2. testing data\n",
        "testing_out = [str(i) for i in testing_data['class1']]\n",
        "for i in range(len(testing_out)):\n",
        "  if(testing_out[i] == \"b'VPN'\"):\n",
        "    testing_out[i] = 1\n",
        "  else:\n",
        "    testing_out[i] = 0\n",
        "\n",
        "testX = testing_data.drop(columns=['class1'])\n",
        "testX.head()"
      ]
    },
    {
      "cell_type": "markdown",
      "metadata": {
        "id": "9--4VNMWTYUG"
      },
      "source": [
        "## 1. Gaussian Naive Bayes\n"
      ]
    },
    {
      "cell_type": "code",
      "execution_count": null,
      "metadata": {
        "colab": {
          "base_uri": "https://localhost:8080/"
        },
        "id": "tUvENjPCTX9v",
        "outputId": "137cfaf1-bcad-4768-c782-24c0a29feb1f"
      },
      "outputs": [
        {
          "data": {
            "text/plain": [
              "GaussianNB()"
            ]
          },
          "execution_count": 5,
          "metadata": {},
          "output_type": "execute_result"
        }
      ],
      "source": [
        "from sklearn import metrics\n",
        "from sklearn.naive_bayes import GaussianNB\n",
        "gnb = GaussianNB()\n",
        "gnb.fit(trainX, training_out)"
      ]
    },
    {
      "cell_type": "code",
      "execution_count": null,
      "metadata": {
        "colab": {
          "base_uri": "https://localhost:8080/"
        },
        "id": "6kA-A_QBTW4s",
        "outputId": "8b48b4b5-11fa-438d-8322-fb842e424eb0"
      },
      "outputs": [
        {
          "name": "stdout",
          "output_type": "stream",
          "text": [
            "Gaussian Naive Bayes Accuracy:  53.5181236673774 %\n"
          ]
        }
      ],
      "source": [
        "pred = gnb.predict(testX)\n",
        "print(\"Gaussian Naive Bayes Accuracy: \",sklearn.metrics.accuracy_score(testing_out, pred)*100,\"%\")"
      ]
    },
    {
      "cell_type": "markdown",
      "metadata": {
        "id": "ZMJ1-EfCShbb"
      },
      "source": [
        "## 2. Decision Tree:\n",
        "### Criterion: Entropy"
      ]
    },
    {
      "cell_type": "code",
      "execution_count": null,
      "metadata": {
        "id": "gSiD3uDyRR2x"
      },
      "outputs": [],
      "source": [
        "from sklearn import tree\n",
        "clf = tree.DecisionTreeClassifier(criterion=\"entropy\")\n",
        "clf = clf.fit(trainX, training_out)"
      ]
    },
    {
      "cell_type": "code",
      "execution_count": null,
      "metadata": {
        "colab": {
          "base_uri": "https://localhost:8080/"
        },
        "id": "mbF_FVeJRUqd",
        "outputId": "6df7dd69-f826-4877-f494-bc906cbe3047"
      },
      "outputs": [
        {
          "name": "stdout",
          "output_type": "stream",
          "text": [
            "Accuracy:  88.99253731343283 %\n"
          ]
        }
      ],
      "source": [
        "pred = clf.predict(testX)\n",
        "print(\"Accuracy: \",sklearn.metrics.accuracy_score(testing_out, pred)*100,\"%\")"
      ]
    },
    {
      "cell_type": "markdown",
      "metadata": {
        "id": "yaZJuQeQSte4"
      },
      "source": [
        "## 3. Random Forest"
      ]
    },
    {
      "cell_type": "code",
      "execution_count": null,
      "metadata": {
        "colab": {
          "base_uri": "https://localhost:8080/"
        },
        "id": "i_NzNhRdRph5",
        "outputId": "f5673d72-268c-4c63-9df4-58d781132e8f"
      },
      "outputs": [
        {
          "data": {
            "text/plain": [
              "RandomForestClassifier(max_depth=200, random_state=42)"
            ]
          },
          "execution_count": 9,
          "metadata": {},
          "output_type": "execute_result"
        }
      ],
      "source": [
        "from sklearn.ensemble import RandomForestClassifier\n",
        "clf = RandomForestClassifier(max_depth=200, random_state=42)\n",
        "clf.fit(trainX, training_out)"
      ]
    },
    {
      "cell_type": "code",
      "execution_count": null,
      "metadata": {
        "colab": {
          "base_uri": "https://localhost:8080/"
        },
        "id": "rD_M_OXISF2X",
        "outputId": "063eb17d-efb8-474f-c4f4-6d446b750920"
      },
      "outputs": [
        {
          "name": "stdout",
          "output_type": "stream",
          "text": [
            "Accuracy:  91.4179104477612 %\n"
          ]
        }
      ],
      "source": [
        "pred = clf.predict(testX)\n",
        "print(\"Accuracy: \",sklearn.metrics.accuracy_score(testing_out, pred)*100,\"%\")"
      ]
    }
  ],
  "metadata": {
    "colab": {
      "provenance": []
    },
    "kernelspec": {
      "display_name": "Python 3.8.2 32-bit",
      "language": "python",
      "name": "python3"
    },
    "language_info": {
      "codemirror_mode": {
        "name": "ipython",
        "version": 3
      },
      "file_extension": ".py",
      "mimetype": "text/x-python",
      "name": "python",
      "nbconvert_exporter": "python",
      "pygments_lexer": "ipython3",
      "version": "3.8.2"
    },
    "vscode": {
      "interpreter": {
        "hash": "2d87b1225a661bd9d8355748d51ddcc5bf6eeeaa473035e69618c95dee9f97ed"
      }
    }
  },
  "nbformat": 4,
  "nbformat_minor": 0
}
